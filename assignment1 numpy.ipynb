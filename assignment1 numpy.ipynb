{
 "cells": [
  {
   "cell_type": "code",
   "execution_count": 2,
   "id": "9653b65c-40a3-4219-a968-1e7deea4ac96",
   "metadata": {},
   "outputs": [],
   "source": [
    "import numpy as np\n",
    "\n"
   ]
  },
  {
   "cell_type": "code",
   "execution_count": 4,
   "id": "86b154dd-0a8e-468c-afdb-4199715d0d03",
   "metadata": {},
   "outputs": [],
   "source": [
    "list_ = [ '1' , '2' , '3' , '4', '5' ]"
   ]
  },
  {
   "cell_type": "code",
   "execution_count": 9,
   "id": "6073175c-739e-4988-a550-ffe36aaa6a46",
   "metadata": {},
   "outputs": [
    {
     "data": {
      "text/plain": [
       "list"
      ]
     },
     "execution_count": 9,
     "metadata": {},
     "output_type": "execute_result"
    }
   ],
   "source": [
    "type(list_)"
   ]
  },
  {
   "cell_type": "code",
   "execution_count": 5,
   "id": "c39fd9fd-3417-47a8-9564-9a91e05956db",
   "metadata": {},
   "outputs": [],
   "source": [
    "array_list = np.array(object = list_)"
   ]
  },
  {
   "cell_type": "code",
   "execution_count": 17,
   "id": "812c5b82-85eb-4733-981f-7f32f3e61353",
   "metadata": {},
   "outputs": [
    {
     "data": {
      "text/plain": [
       "numpy.ndarray"
      ]
     },
     "execution_count": 17,
     "metadata": {},
     "output_type": "execute_result"
    }
   ],
   "source": [
    "type(array_list)"
   ]
  },
  {
   "cell_type": "code",
   "execution_count": 18,
   "id": "b273d5c1-e908-43a0-8f04-3f7e245852fa",
   "metadata": {},
   "outputs": [
    {
     "name": "stdout",
     "output_type": "stream",
     "text": [
      "Data type of list_ variable:  <class 'list'>\n",
      "Data type of array_list variable:  <U1\n"
     ]
    }
   ],
   "source": [
    "print(\"Data type of list_ variable: \", type(list_))\n",
    "print(\"Data type of array_list variable: \", array_list.dtype)"
   ]
  },
  {
   "cell_type": "code",
   "execution_count": 19,
   "id": "5b26005f-a709-44c2-a19a-9532a4f34280",
   "metadata": {},
   "outputs": [],
   "source": [
    "# Yes, there is a difference in the data type of variables list_ and array_list.\n",
    "\n",
    "# The list_ variable is a Python list object, which can hold elements of different types, including strings, integers, floats,\n",
    "# and more.\n",
    "\n",
    "# The array_list variable is a NumPy array object, which can hold elements of a single data type. In this case, because all\n",
    "# the elements of the list are strings, the NumPy array also has a data type of '<U1', which represents a Unicode string of \n",
    "# length 1."
   ]
  },
  {
   "cell_type": "code",
   "execution_count": 24,
   "id": "c16ccbae-81d0-4712-948a-a3aaf34e4f82",
   "metadata": {},
   "outputs": [
    {
     "name": "stdout",
     "output_type": "stream",
     "text": [
      "Data type of element '1' in list_: <class 'str'>\n",
      "Data type of element '2' in list_: <class 'str'>\n",
      "Data type of element '3' in list_: <class 'str'>\n",
      "Data type of element '4' in list_: <class 'str'>\n",
      "Data type of element '5' in list_: <class 'str'>\n"
     ]
    }
   ],
   "source": [
    "# Q2.\n",
    "# Print data type of each element in the list\n",
    "for element in list_:\n",
    "    print(f\"Data type of element '{element}' in list_: {type(element)}\")"
   ]
  },
  {
   "cell_type": "code",
   "execution_count": 25,
   "id": "8c2b28e8-abe8-4836-b971-9cccb92337d0",
   "metadata": {},
   "outputs": [
    {
     "name": "stdout",
     "output_type": "stream",
     "text": [
      "Data type of element '1' in array_list: <class 'numpy.str_'>\n",
      "Data type of element '2' in array_list: <class 'numpy.str_'>\n",
      "Data type of element '3' in array_list: <class 'numpy.str_'>\n",
      "Data type of element '4' in array_list: <class 'numpy.str_'>\n",
      "Data type of element '5' in array_list: <class 'numpy.str_'>\n"
     ]
    }
   ],
   "source": [
    "# Print data type of each element in the NumPy array\n",
    "for element in array_list:\n",
    "    print(f\"Data type of element '{element}' in array_list: {type(element)}\")"
   ]
  },
  {
   "cell_type": "code",
   "execution_count": 27,
   "id": "a71c4cb1-4139-420b-a15f-4777a16f0b60",
   "metadata": {},
   "outputs": [],
   "source": [
    "#Q3.\n",
    "import numpy as np\n",
    "list_ = [ '1' , '2' , '3' , '4', '5' ]\n"
   ]
  },
  {
   "cell_type": "code",
   "execution_count": 28,
   "id": "acb4fd7d-200a-4a82-91aa-cb9383cb6d9a",
   "metadata": {},
   "outputs": [],
   "source": [
    "array_list = np.array(object = list_, dtype = int)"
   ]
  },
  {
   "cell_type": "code",
   "execution_count": 29,
   "id": "a7d91ad4-de15-4eaa-9f4e-dcc569cd03c1",
   "metadata": {},
   "outputs": [
    {
     "data": {
      "text/plain": [
       "list"
      ]
     },
     "execution_count": 29,
     "metadata": {},
     "output_type": "execute_result"
    }
   ],
   "source": [
    "type(list_)"
   ]
  },
  {
   "cell_type": "code",
   "execution_count": 30,
   "id": "66cd6f00-8fe2-492f-9cc7-1bd8d3e1678c",
   "metadata": {},
   "outputs": [
    {
     "data": {
      "text/plain": [
       "numpy.ndarray"
      ]
     },
     "execution_count": 30,
     "metadata": {},
     "output_type": "execute_result"
    }
   ],
   "source": [
    "type(array_list)"
   ]
  },
  {
   "cell_type": "code",
   "execution_count": 31,
   "id": "cab9c467-d6ee-48b8-ad30-e536430a0359",
   "metadata": {},
   "outputs": [
    {
     "name": "stdout",
     "output_type": "stream",
     "text": [
      "Data type of list_ variable:  <class 'list'>\n",
      "Data type of array_list variable:  int64\n"
     ]
    }
   ],
   "source": [
    "print(\"Data type of list_ variable: \", type(list_))\n",
    "print(\"Data type of array_list variable: \", array_list.dtype)"
   ]
  },
  {
   "cell_type": "code",
   "execution_count": 32,
   "id": "6bb14d62-e6a4-4938-9a58-023f2b456b26",
   "metadata": {},
   "outputs": [],
   "source": [
    "# Yes, there will be a difference in the data type of the elements present in both the variables list_ and array_list after\n",
    "# changing the dtype of the array_list to int.\n",
    "\n",
    "# The list_ variable contains string elements, whereas the array_list variable will contain integer elements after the \n",
    "# conversion."
   ]
  },
  {
   "cell_type": "code",
   "execution_count": 33,
   "id": "36aa504e-0487-482a-91e7-23f717086afc",
   "metadata": {},
   "outputs": [],
   "source": [
    "# Q4.\n",
    "import numpy as np\n",
    "num_list = [ [ 1 , 2 , 3 ] , [ 4 , 5 , 6 ] ]\n",
    "num_array = np.array(object = num_list)"
   ]
  },
  {
   "cell_type": "code",
   "execution_count": 44,
   "id": "d3f7ecc4-3083-4050-aa45-a5cf3a07c16f",
   "metadata": {},
   "outputs": [
    {
     "data": {
      "text/plain": [
       "numpy.ndarray"
      ]
     },
     "execution_count": 44,
     "metadata": {},
     "output_type": "execute_result"
    }
   ],
   "source": [
    "type(num_array)"
   ]
  },
  {
   "cell_type": "code",
   "execution_count": 45,
   "id": "50ee7a00-6311-4c3f-8055-546bd15dfad8",
   "metadata": {},
   "outputs": [
    {
     "data": {
      "text/plain": [
       "list"
      ]
     },
     "execution_count": 45,
     "metadata": {},
     "output_type": "execute_result"
    }
   ],
   "source": [
    "type(num_list)"
   ]
  },
  {
   "cell_type": "code",
   "execution_count": 48,
   "id": "3f3ef35d-ff2f-44ac-a921-4096fc976599",
   "metadata": {},
   "outputs": [
    {
     "data": {
      "text/plain": [
       "(2, 3)"
      ]
     },
     "execution_count": 48,
     "metadata": {},
     "output_type": "execute_result"
    }
   ],
   "source": [
    "#Get the shape of the array\n",
    "num_array.shape"
   ]
  },
  {
   "cell_type": "code",
   "execution_count": 49,
   "id": "f57e2d5f-0181-4151-8a44-243067e35023",
   "metadata": {},
   "outputs": [
    {
     "data": {
      "text/plain": [
       "6"
      ]
     },
     "execution_count": 49,
     "metadata": {},
     "output_type": "execute_result"
    }
   ],
   "source": [
    "#Get the size of the array\n",
    "num_array.size"
   ]
  },
  {
   "cell_type": "code",
   "execution_count": 50,
   "id": "227d995f-ad3d-4ea3-bf1f-487db49282fc",
   "metadata": {},
   "outputs": [
    {
     "name": "stdout",
     "output_type": "stream",
     "text": [
      "Shape of num_array: (2, 3)\n",
      "Size of num_array: 6\n"
     ]
    }
   ],
   "source": [
    "# Find the shape of the array\n",
    "print(\"Shape of num_array:\", num_array.shape)\n",
    "\n",
    "# Find the size of the array\n",
    "print(\"Size of num_array:\", num_array.size)"
   ]
  },
  {
   "cell_type": "code",
   "execution_count": 56,
   "id": "8ee25695-c3bc-43ba-bb4d-25876c4ef19e",
   "metadata": {},
   "outputs": [],
   "source": [
    "# Q5. Write a code to create numpy array of 3*3 matrix containing zeros only, using a numpy array\n",
    "# creation function.\n",
    "# [Hint: The size of the array will be 9 and the shape will be (3,3).]\n",
    "\n",
    "import numpy.matlib as nm \n"
   ]
  },
  {
   "cell_type": "code",
   "execution_count": 60,
   "id": "8092869c-25a0-466b-915a-3d9850f48456",
   "metadata": {},
   "outputs": [],
   "source": [
    "ze = nm.zeros((3,3))"
   ]
  },
  {
   "cell_type": "code",
   "execution_count": 62,
   "id": "7b82631a-6772-4f83-a07e-7aa1e3dc19dc",
   "metadata": {},
   "outputs": [
    {
     "data": {
      "text/plain": [
       "9"
      ]
     },
     "execution_count": 62,
     "metadata": {},
     "output_type": "execute_result"
    }
   ],
   "source": [
    "ze.size"
   ]
  },
  {
   "cell_type": "code",
   "execution_count": 63,
   "id": "bd878aa8-d770-4ddc-96c1-47a843e42cbd",
   "metadata": {},
   "outputs": [
    {
     "data": {
      "text/plain": [
       "(3, 3)"
      ]
     },
     "execution_count": 63,
     "metadata": {},
     "output_type": "execute_result"
    }
   ],
   "source": [
    "ze.shape"
   ]
  },
  {
   "cell_type": "code",
   "execution_count": 65,
   "id": "ff1e8b8c-16b6-4f37-a483-dc0534bca487",
   "metadata": {},
   "outputs": [
    {
     "data": {
      "text/plain": [
       "matrix([[0., 0., 0.],\n",
       "        [0., 0., 0.],\n",
       "        [0., 0., 0.]])"
      ]
     },
     "execution_count": 65,
     "metadata": {},
     "output_type": "execute_result"
    }
   ],
   "source": [
    "ze*3"
   ]
  },
  {
   "cell_type": "code",
   "execution_count": null,
   "id": "a3493daf-833b-4448-bd97-3c185ef93b9c",
   "metadata": {},
   "outputs": [],
   "source": [
    "#Q6.\n",
    "# Q6. Create an identity matrix of shape (5,5) using numpy functions?\n",
    "# [Hint: An identity matrix is a matrix containing 1 diagonally and other elements will be 0.]\n",
    "import numpy as np \n",
    "\n",
    "np.identity(5,5)\n"
   ]
  },
  {
   "cell_type": "code",
   "execution_count": null,
   "id": "4c486b59-1ceb-4798-b93f-989eba2532dc",
   "metadata": {},
   "outputs": [],
   "source": []
  }
 ],
 "metadata": {
  "kernelspec": {
   "display_name": "Python 3 (ipykernel)",
   "language": "python",
   "name": "python3"
  },
  "language_info": {
   "codemirror_mode": {
    "name": "ipython",
    "version": 3
   },
   "file_extension": ".py",
   "mimetype": "text/x-python",
   "name": "python",
   "nbconvert_exporter": "python",
   "pygments_lexer": "ipython3",
   "version": "3.10.8"
  }
 },
 "nbformat": 4,
 "nbformat_minor": 5
}
